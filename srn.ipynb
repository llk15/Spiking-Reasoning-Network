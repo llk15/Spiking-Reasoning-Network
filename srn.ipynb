{
 "cells": [
  {
   "cell_type": "code",
   "execution_count": 1,
   "metadata": {},
   "outputs": [],
   "source": [
    "import pickle\n",
    "from srn import *\n",
    "from tqdm import tqdm\n",
    "path = '../data/'"
   ]
  },
  {
   "cell_type": "code",
   "execution_count": 2,
   "metadata": {},
   "outputs": [],
   "source": [
    "with open(path+'val_scene_gt.pkl', 'rb') as f:\n",
    "    S = pickle.load(f)"
   ]
  },
  {
   "cell_type": "code",
   "execution_count": 3,
   "metadata": {},
   "outputs": [],
   "source": [
    "with open(path+'val_question_gt.pkl', 'rb') as f:\n",
    "    Q = pickle.load(f)"
   ]
  },
  {
   "cell_type": "code",
   "execution_count": 4,
   "metadata": {},
   "outputs": [
    {
     "name": "stderr",
     "output_type": "stream",
     "text": [
      "15000it [05:42, 43.76it/s]\n"
     ]
    }
   ],
   "source": [
    "device = 'cpu'\n",
    "ERR = []\n",
    "for s_idx,s in tqdm(enumerate(S)):\n",
    "    # build net\n",
    "    connection = scene2connection(s).transpose(0,1)\n",
    "    net = SRN(connection).to(device)\n",
    "    \n",
    "    for q_idx,q in enumerate(Q[s_idx]):\n",
    "        # make stimuli\n",
    "        stimuli = program2stimuli(q['program'], connection.shape[0]).to(device)\n",
    "        stimuli.unsqueeze_(2);\n",
    "        # reasoning\n",
    "        mem, spike= net(stimuli)\n",
    "        mem.squeeze_().to('cpu')\n",
    "        spike.squeeze_().to('cpu')\n",
    "        # get prediction\n",
    "        pred = spike2answer(mem, spike, q['program'][-1])\n",
    "        if pred != q['answer']:\n",
    "            ERR.append([s_idx,q_idx])"
   ]
  },
  {
   "cell_type": "code",
   "execution_count": 5,
   "metadata": {},
   "outputs": [
    {
     "data": {
      "text/plain": [
       "0"
      ]
     },
     "execution_count": 5,
     "metadata": {},
     "output_type": "execute_result"
    }
   ],
   "source": [
    "len(ERR)"
   ]
  },
  {
   "cell_type": "code",
   "execution_count": null,
   "metadata": {},
   "outputs": [],
   "source": []
  },
  {
   "cell_type": "code",
   "execution_count": null,
   "metadata": {},
   "outputs": [],
   "source": []
  },
  {
   "cell_type": "code",
   "execution_count": null,
   "metadata": {},
   "outputs": [],
   "source": []
  },
  {
   "cell_type": "code",
   "execution_count": null,
   "metadata": {},
   "outputs": [],
   "source": []
  },
  {
   "cell_type": "code",
   "execution_count": null,
   "metadata": {},
   "outputs": [],
   "source": []
  }
 ],
 "metadata": {
  "kernelspec": {
   "display_name": "Python 3",
   "language": "python",
   "name": "python3"
  },
  "language_info": {
   "codemirror_mode": {
    "name": "ipython",
    "version": 3
   },
   "file_extension": ".py",
   "mimetype": "text/x-python",
   "name": "python",
   "nbconvert_exporter": "python",
   "pygments_lexer": "ipython3",
   "version": "3.8.3"
  }
 },
 "nbformat": 4,
 "nbformat_minor": 4
}
